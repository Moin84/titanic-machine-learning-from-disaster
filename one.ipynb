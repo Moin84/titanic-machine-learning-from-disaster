{
 "cells": [
  {
   "cell_type": "code",
   "execution_count": 1,
   "metadata": {},
   "outputs": [],
   "source": [
    "import pandas as pd\n",
    "from sklearn.preprocessing import OrdinalEncoder\n",
    "from sklearn.impute import SimpleImputer\n",
    "from xgboost import XGBRegressor"
   ]
  },
  {
   "cell_type": "code",
   "execution_count": 2,
   "metadata": {},
   "outputs": [],
   "source": [
    "train = pd.read_csv(\"train.csv\")\n",
    "test = pd.read_csv(\"test.csv\")"
   ]
  },
  {
   "cell_type": "code",
   "execution_count": 3,
   "metadata": {},
   "outputs": [],
   "source": [
    "train_X = train[[\"PassengerId\", \"Pclass\", \"Sex\", \"Age\", \"SibSp\", \"Parch\"]]\n",
    "train_y = train[\"Survived\"]\n",
    "\n",
    "test_X = test[[\"PassengerId\", \"Pclass\", \"Sex\", \"Age\", \"SibSp\", \"Parch\"]]\n",
    "test_X.shape\n",
    "\n",
    "\n",
    "cat_train = train_X.copy()\n",
    "cat_test = test_X.copy()\n",
    "\n",
    "encoder = OrdinalEncoder()\n",
    "cat_train[[\"Sex\"]] = encoder.fit_transform(train_X[[\"Sex\"]])\n",
    "cat_test[[\"Sex\"]] = encoder.fit_transform(test_X[[\"Sex\"]])\n",
    "\n",
    "train_X = cat_train.copy()\n",
    "test_X = cat_test.copy()\n",
    "\n",
    "\n",
    "imputer = SimpleImputer()\n",
    "imp_train_X = pd.DataFrame(imputer.fit_transform(train_X))\n",
    "imp_test_X = pd.DataFrame(imputer.fit_transform(test_X))\n",
    "\n",
    "imp_train_X.columns = train_X.columns\n",
    "imp_test_X.columns = test_X.columns\n",
    "\n",
    "train_X = imp_train_X.copy()\n",
    "test_X = imp_test_X.copy()"
   ]
  },
  {
   "cell_type": "code",
   "execution_count": 4,
   "metadata": {},
   "outputs": [],
   "source": [
    "model = XGBRegressor(n_estimators=1000, learning_rate=0.05)\n",
    "model.fit(train_X, train_y, verbose=False)\n",
    "predictions = model.predict(test_X)\n",
    "\n",
    "output = pd.DataFrame({\"PassengerId\": test_X[\"PassengerId\"], \"Survived\": predictions})\n",
    "output.to_csv(\"survived.csv\", index=False)"
   ]
  }
 ],
 "metadata": {
  "kernelspec": {
   "display_name": "Python 3",
   "language": "python",
   "name": "python3"
  },
  "language_info": {
   "codemirror_mode": {
    "name": "ipython",
    "version": 3
   },
   "file_extension": ".py",
   "mimetype": "text/x-python",
   "name": "python",
   "nbconvert_exporter": "python",
   "pygments_lexer": "ipython3",
   "version": "3.12.3"
  }
 },
 "nbformat": 4,
 "nbformat_minor": 2
}
